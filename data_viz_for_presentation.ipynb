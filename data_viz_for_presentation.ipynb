{
 "cells": [
  {
   "cell_type": "code",
   "execution_count": 1,
   "metadata": {},
   "outputs": [],
   "source": [
    "import pandas as pd\n",
    "import as np"
   ]
  },
  {
   "cell_type": "code",
   "execution_count": 2,
   "metadata": {},
   "outputs": [],
   "source": [
    "adi = pd.read_csv('full_cleaned_data.tsv', sep='\\t')"
   ]
  },
  {
   "cell_type": "code",
   "execution_count": 3,
   "metadata": {},
   "outputs": [
    {
     "data": {
      "text/html": [
       "<div>\n",
       "<style scoped>\n",
       "    .dataframe tbody tr th:only-of-type {\n",
       "        vertical-align: middle;\n",
       "    }\n",
       "\n",
       "    .dataframe tbody tr th {\n",
       "        vertical-align: top;\n",
       "    }\n",
       "\n",
       "    .dataframe thead th {\n",
       "        text-align: right;\n",
       "    }\n",
       "</style>\n",
       "<table border=\"1\" class=\"dataframe\">\n",
       "  <thead>\n",
       "    <tr style=\"text-align: right;\">\n",
       "      <th></th>\n",
       "      <th>Unnamed: 0</th>\n",
       "      <th>text</th>\n",
       "      <th>split</th>\n",
       "      <th>source</th>\n",
       "      <th>dialect</th>\n",
       "      <th>country</th>\n",
       "      <th>num_arabic_chars</th>\n",
       "    </tr>\n",
       "  </thead>\n",
       "  <tbody>\n",
       "    <tr>\n",
       "      <th>0</th>\n",
       "      <td>1151</td>\n",
       "      <td>هه اصلا حاليا فى وفد قطري موجود بغزه واللعبه ه...</td>\n",
       "      <td>train</td>\n",
       "      <td>SHAMI</td>\n",
       "      <td>LEV</td>\n",
       "      <td>PL</td>\n",
       "      <td>51</td>\n",
       "    </tr>\n",
       "    <tr>\n",
       "      <th>1</th>\n",
       "      <td>1152</td>\n",
       "      <td>عادي طعميها لأنها ما راح تكتفي من صدرك صار بده...</td>\n",
       "      <td>train</td>\n",
       "      <td>SHAMI</td>\n",
       "      <td>LEV</td>\n",
       "      <td>PL</td>\n",
       "      <td>48</td>\n",
       "    </tr>\n",
       "    <tr>\n",
       "      <th>2</th>\n",
       "      <td>1153</td>\n",
       "      <td>اعملي اللي عليكي لوجه الله</td>\n",
       "      <td>train</td>\n",
       "      <td>SHAMI</td>\n",
       "      <td>LEV</td>\n",
       "      <td>PL</td>\n",
       "      <td>22</td>\n",
       "    </tr>\n",
       "    <tr>\n",
       "      <th>3</th>\n",
       "      <td>1154</td>\n",
       "      <td>حكت شفتها اكتر من مره بلبس قصير واكيد زوجي شافها</td>\n",
       "      <td>train</td>\n",
       "      <td>SHAMI</td>\n",
       "      <td>LEV</td>\n",
       "      <td>PL</td>\n",
       "      <td>39</td>\n",
       "    </tr>\n",
       "    <tr>\n",
       "      <th>4</th>\n",
       "      <td>1155</td>\n",
       "      <td>و هيا وإياه بتزوجو هه</td>\n",
       "      <td>train</td>\n",
       "      <td>SHAMI</td>\n",
       "      <td>LEV</td>\n",
       "      <td>PL</td>\n",
       "      <td>17</td>\n",
       "    </tr>\n",
       "  </tbody>\n",
       "</table>\n",
       "</div>"
      ],
      "text/plain": [
       "   Unnamed: 0                                               text  split  \\\n",
       "0        1151  هه اصلا حاليا فى وفد قطري موجود بغزه واللعبه ه...  train   \n",
       "1        1152  عادي طعميها لأنها ما راح تكتفي من صدرك صار بده...  train   \n",
       "2        1153                         اعملي اللي عليكي لوجه الله  train   \n",
       "3        1154   حكت شفتها اكتر من مره بلبس قصير واكيد زوجي شافها  train   \n",
       "4        1155                              و هيا وإياه بتزوجو هه  train   \n",
       "\n",
       "  source dialect country  num_arabic_chars  \n",
       "0  SHAMI     LEV      PL                51  \n",
       "1  SHAMI     LEV      PL                48  \n",
       "2  SHAMI     LEV      PL                22  \n",
       "3  SHAMI     LEV      PL                39  \n",
       "4  SHAMI     LEV      PL                17  "
      ]
     },
     "execution_count": 3,
     "metadata": {},
     "output_type": "execute_result"
    }
   ],
   "source": [
    "adi.head()"
   ]
  },
  {
   "cell_type": "code",
   "execution_count": null,
   "metadata": {},
   "outputs": [],
   "source": []
  }
 ],
 "metadata": {
  "kernelspec": {
   "display_name": "Python 3",
   "language": "python",
   "name": "python3"
  },
  "language_info": {
   "codemirror_mode": {
    "name": "ipython",
    "version": 3
   },
   "file_extension": ".py",
   "mimetype": "text/x-python",
   "name": "python",
   "nbconvert_exporter": "python",
   "pygments_lexer": "ipython3",
   "version": "3.6.8"
  }
 },
 "nbformat": 4,
 "nbformat_minor": 2
}
